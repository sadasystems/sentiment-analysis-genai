{
  "cells": [
    {
      "cell_type": "code",
      "execution_count": null,
      "id": "e24bffb2-c7e0-46d2-817e-1b9602d692c8",
      "metadata": {
        "id": "e24bffb2-c7e0-46d2-817e-1b9602d692c8",
        "outputId": "a36996b1-d54f-4d2f-f908-654e1e655aa1"
      },
      "outputs": [],
      "source": [
        "!pip install datasets google-cloud-aiplatform==1.25.0"
      ]
    },
    {
      "cell_type": "code",
      "execution_count": null,
      "id": "678a0e6b-3402-49cc-b474-0392f4d8aa73",
      "metadata": {
        "id": "678a0e6b-3402-49cc-b474-0392f4d8aa73"
      },
      "outputs": [],
      "source": [
        "import vertexai\n",
        "from vertexai.preview.language_models import TextGenerationModel"
      ]
    },
    {
      "cell_type": "code",
      "execution_count": null,
      "id": "c5505bd1-e012-4e8d-b2fa-4bfe0e6657d3",
      "metadata": {
        "id": "c5505bd1-e012-4e8d-b2fa-4bfe0e6657d3"
      },
      "outputs": [],
      "source": [
        "import queue\n",
        "import threading\n",
        "import time"
      ]
    },
    {
      "cell_type": "code",
      "execution_count": null,
      "id": "d41b36da-2557-4896-8bdb-3f0eb7097767",
      "metadata": {
        "id": "d41b36da-2557-4896-8bdb-3f0eb7097767"
      },
      "outputs": [],
      "source": [
        "import numpy as np\n",
        "import pandas as pd\n",
        "from sklearn.metrics import accuracy_score, confusion_matrix"
      ]
    },
    {
      "attachments": {},
      "cell_type": "markdown",
      "id": "5c96426a",
      "metadata": {},
      "source": [
        "Replace `YOUR_PROJECT_ID` with your project ID in the cell below."
      ]
    },
    {
      "cell_type": "code",
      "execution_count": null,
      "id": "4105c2b4-9669-4353-80ca-d46ec80389c6",
      "metadata": {
        "id": "4105c2b4-9669-4353-80ca-d46ec80389c6"
      },
      "outputs": [],
      "source": [
        "PROJECT_ID=\"YOUR_PROJECT_ID\"\n",
        "LOCATION=\"us-central1\""
      ]
    },
    {
      "cell_type": "code",
      "execution_count": null,
      "id": "3a994faa-c113-4d55-b9aa-cb98d80f9441",
      "metadata": {
        "id": "3a994faa-c113-4d55-b9aa-cb98d80f9441"
      },
      "outputs": [],
      "source": [
        "vertexai.init(project=PROJECT_ID, location=LOCATION)"
      ]
    },
    {
      "cell_type": "code",
      "execution_count": null,
      "id": "9de05b1d-dad7-4f81-adc3-627bdc7d2100",
      "metadata": {
        "id": "9de05b1d-dad7-4f81-adc3-627bdc7d2100"
      },
      "outputs": [],
      "source": [
        "def predict_large_language_model(\n",
        "    model_name: str,\n",
        "    temperature: float,\n",
        "    max_decode_steps: int,\n",
        "    top_p: float,\n",
        "    top_k: int,\n",
        "    content: str,\n",
        "    tuned_model_name: str = \"\",\n",
        "    ) :\n",
        "    \"\"\"Predict using a Large Language Model.\"\"\"\n",
        "    \n",
        "    model = TextGenerationModel.from_pretrained(model_name)\n",
        "    if tuned_model_name:\n",
        "      model = model.get_tuned_model(tuned_model_name)\n",
        "    response = model.predict(\n",
        "        content,\n",
        "        temperature=temperature,\n",
        "        max_output_tokens=max_decode_steps,\n",
        "        top_k=top_k,\n",
        "        top_p=top_p,)\n",
        "    return response.text"
      ]
    },
    {
      "cell_type": "code",
      "execution_count": null,
      "id": "f48d3315-85ab-42fe-8678-9967acafbae9",
      "metadata": {
        "id": "f48d3315-85ab-42fe-8678-9967acafbae9"
      },
      "outputs": [],
      "source": [
        "prompt = '''input: I had to compare two versions of Hamlet for my Shakespeare class and unfortunately I picked this version. Everything from the acting (the actors deliver most of their lines directly to the camera) to the camera shots (all medium or close up shots...no scenery shots and very little back ground in the shots) were absolutely terrible. I watched this over my spring break and it is very safe to say that I feel that I was gypped out of 114 minutes of my vacation. Not recommended by any stretch of the imagination.\n",
        "Classify the sentiment of the message: negative\n",
        "\n",
        "input: This Charles outing is decent but this is a pretty low-key performance. Marlon Brando stands out. There\\'s a subplot with Mira Sorvino and Donald Sutherland that forgets to develop and it hurts the film a little. I\\'m still trying to figure out why Charlie want to change his name.\n",
        "Classify the sentiment of the message: negative\n",
        "\n",
        "input: My family has watched Arthur Bach stumble and stammer since the movie first came out. We have most lines memorized. I watched it two weeks ago and still get tickled at the simple humor and view-at-life that Dudley Moore portrays. Liza Minelli did a wonderful job as the side kick - though I\\'m not her biggest fan. This movie makes me just enjoy watching movies. My favorite scene is when Arthur is visiting his fiancée\\'s house. His conversation with the butler and Susan\\'s father is side-spitting. The line from the butler, \"Would you care to wait in the Library\" followed by Arthur\\'s reply, \"Yes I would, the bathroom is out of the question\", is my NEWMAIL notification on my computer.\n",
        "Classify the sentiment of the message: positive\n",
        "\n",
        "input: {review}\n",
        "Classify the sentiment of the message: \n",
        "'''"
      ]
    },
    {
      "cell_type": "code",
      "execution_count": null,
      "id": "36a979bb-e260-4e07-8e96-441ffa540ca5",
      "metadata": {
        "id": "36a979bb-e260-4e07-8e96-441ffa540ca5",
        "outputId": "701445c9-bce9-4a22-b77f-3ab2cd489452"
      },
      "outputs": [
        {
          "data": {
            "text/plain": [
              "'positive'"
            ]
          },
          "execution_count": 9,
          "metadata": {},
          "output_type": "execute_result"
        }
      ],
      "source": [
        "review = \"Something surprised me about this movie - it was actually original. It was not the same old recycled crap that comes out of Hollywood every month. I saw this movie on video because I did not even know about it before I saw it at my local video store. If you see this movie available - rent it - you will not regret it.\"\n",
        "content = prompt.format(review=review)\n",
        "\n",
        "response_text = predict_large_language_model(\n",
        "    \"text-bison@001\", \n",
        "    temperature=0.2, \n",
        "    max_decode_steps=5, \n",
        "    top_p=0.8, \n",
        "    top_k=1, \n",
        "    content=content)\n",
        "response_text"
      ]
    },
    {
      "cell_type": "code",
      "execution_count": null,
      "id": "60de372e-5736-4293-ad11-40e37e138f2f",
      "metadata": {
        "id": "60de372e-5736-4293-ad11-40e37e138f2f"
      },
      "outputs": [],
      "source": [
        "def classify_review(review):\n",
        "    content = prompt.format(review=review)\n",
        "    response_text = predict_large_language_model(\n",
        "        \"text-bison@001\", \n",
        "        temperature=0.2, \n",
        "        max_decode_steps=5, \n",
        "        top_p=0.8, \n",
        "        top_k=1, \n",
        "        content=content)\n",
        "    if response_text.lower() == 'negative':\n",
        "        return 0\n",
        "    elif response_text.lower() == 'positive':\n",
        "        return 1\n",
        "    else:\n",
        "        return 2"
      ]
    },
    {
      "cell_type": "code",
      "execution_count": null,
      "id": "e648405d-55ca-4c1b-9061-96ecaa6d4356",
      "metadata": {
        "colab": {
          "referenced_widgets": [
            "fcc73404f00f4a74a0cfa16fb567692e",
            "653b00266b0d4cc39ca42c08940d39a6",
            "7e1fb90ccfeb4f42ab015385dafa54ca",
            "71162046631f496794f8646deae9b7fc",
            "",
            "100e6990ba614430be934713208ca7fa"
          ]
        },
        "id": "e648405d-55ca-4c1b-9061-96ecaa6d4356",
        "outputId": "04363cb4-a183-44b1-f129-dbc9d1dc2972"
      },
      "outputs": [],
      "source": [
        "from datasets import load_dataset\n",
        "dataset = load_dataset(\"imdb\")"
      ]
    },
    {
      "cell_type": "code",
      "execution_count": null,
      "id": "1de9586b-b248-40cc-bade-0432d242edec",
      "metadata": {
        "id": "1de9586b-b248-40cc-bade-0432d242edec",
        "outputId": "18c68157-3e7b-40e5-ee64-caa0034b1097"
      },
      "outputs": [
        {
          "data": {
            "text/plain": [
              "'I love sci-fi and am willing to put up with a lot. Sci-fi movies/TV are usually underfunded, under-appreciated and misunderstood. I tried to like this, I really did, but it is to good TV sci-fi as Babylon 5 is to Star Trek (the original). Silly prosthetics, cheap cardboard sets, stilted dialogues, CG that doesn\\'t match the background, and painfully one-dimensional characters cannot be overcome with a \\'sci-fi\\' setting. (I\\'m sure there are those of you out there who think Babylon 5 is good sci-fi TV. It\\'s not. It\\'s clichéd and uninspiring.) While US viewers might like emotion and character development, sci-fi is a genre that does not take itself seriously (cf. Star Trek). It may treat important issues, yet not as a serious philosophy. It\\'s really difficult to care about the characters here as they are not simply foolish, just missing a spark of life. Their actions and reactions are wooden and predictable, often painful to watch. The makers of Earth KNOW it\\'s rubbish as they have to always say \"Gene Roddenberry\\'s Earth...\" otherwise people would not continue watching. Roddenberry\\'s ashes must be turning in their orbit as this dull, cheap, poorly edited (watching it without advert breaks really brings this home) trudging Trabant of a show lumbers into space. Spoiler. So, kill off a main character. And then bring him back as another actor. Jeeez! Dallas all over again.'"
            ]
          },
          "execution_count": 12,
          "metadata": {},
          "output_type": "execute_result"
        }
      ],
      "source": [
        "review = dataset['test'][0]['text']\n",
        "review"
      ]
    },
    {
      "cell_type": "code",
      "execution_count": null,
      "id": "8085320c-e22d-43cc-bff9-d1d537291e86",
      "metadata": {
        "id": "8085320c-e22d-43cc-bff9-d1d537291e86",
        "outputId": "8e1a2d9d-cd93-4fac-f368-2cd1fc3ed4bc"
      },
      "outputs": [
        {
          "data": {
            "text/plain": [
              "0"
            ]
          },
          "execution_count": 13,
          "metadata": {},
          "output_type": "execute_result"
        }
      ],
      "source": [
        "classify_review(review)"
      ]
    },
    {
      "cell_type": "code",
      "execution_count": null,
      "id": "674ec1d0-262b-4dfa-b7bd-86d553592e90",
      "metadata": {
        "id": "674ec1d0-262b-4dfa-b7bd-86d553592e90",
        "outputId": "01733a96-96b9-4ccd-a951-bef3ca9ba76d"
      },
      "outputs": [
        {
          "data": {
            "text/html": [
              "<div>\n",
              "<style scoped>\n",
              "    .dataframe tbody tr th:only-of-type {\n",
              "        vertical-align: middle;\n",
              "    }\n",
              "\n",
              "    .dataframe tbody tr th {\n",
              "        vertical-align: top;\n",
              "    }\n",
              "\n",
              "    .dataframe thead th {\n",
              "        text-align: right;\n",
              "    }\n",
              "</style>\n",
              "<table border=\"1\" class=\"dataframe\">\n",
              "  <thead>\n",
              "    <tr style=\"text-align: right;\">\n",
              "      <th></th>\n",
              "      <th>text</th>\n",
              "      <th>label</th>\n",
              "    </tr>\n",
              "  </thead>\n",
              "  <tbody>\n",
              "    <tr>\n",
              "      <th>0</th>\n",
              "      <td>I love sci-fi and am willing to put up with a ...</td>\n",
              "      <td>0</td>\n",
              "    </tr>\n",
              "    <tr>\n",
              "      <th>1</th>\n",
              "      <td>Worth the entertainment value of a rental, esp...</td>\n",
              "      <td>0</td>\n",
              "    </tr>\n",
              "    <tr>\n",
              "      <th>2</th>\n",
              "      <td>its a totally average film with a few semi-alr...</td>\n",
              "      <td>0</td>\n",
              "    </tr>\n",
              "    <tr>\n",
              "      <th>3</th>\n",
              "      <td>STAR RATING: ***** Saturday Night **** Friday ...</td>\n",
              "      <td>0</td>\n",
              "    </tr>\n",
              "    <tr>\n",
              "      <th>4</th>\n",
              "      <td>First off let me say, If you haven't enjoyed a...</td>\n",
              "      <td>0</td>\n",
              "    </tr>\n",
              "  </tbody>\n",
              "</table>\n",
              "</div>"
            ],
            "text/plain": [
              "                                                text  label\n",
              "0  I love sci-fi and am willing to put up with a ...      0\n",
              "1  Worth the entertainment value of a rental, esp...      0\n",
              "2  its a totally average film with a few semi-alr...      0\n",
              "3  STAR RATING: ***** Saturday Night **** Friday ...      0\n",
              "4  First off let me say, If you haven't enjoyed a...      0"
            ]
          },
          "execution_count": 14,
          "metadata": {},
          "output_type": "execute_result"
        }
      ],
      "source": [
        "df_test = pd.DataFrame(dataset['test'])\n",
        "df_test.head()"
      ]
    },
    {
      "cell_type": "code",
      "execution_count": null,
      "id": "986ab51e-9ad3-42a1-ac3c-573c7156f4ee",
      "metadata": {
        "id": "986ab51e-9ad3-42a1-ac3c-573c7156f4ee",
        "outputId": "8563215c-4057-4334-d34e-2637b5a7db2c"
      },
      "outputs": [
        {
          "data": {
            "text/plain": [
              "0    12500\n",
              "1    12500\n",
              "Name: label, dtype: int64"
            ]
          },
          "execution_count": 15,
          "metadata": {},
          "output_type": "execute_result"
        }
      ],
      "source": [
        "df_test.label.value_counts()"
      ]
    },
    {
      "cell_type": "code",
      "execution_count": null,
      "id": "6f71069d-907a-4ea3-9528-f080beda84c5",
      "metadata": {
        "id": "6f71069d-907a-4ea3-9528-f080beda84c5"
      },
      "outputs": [],
      "source": [
        "def execute_threaded_task():\n",
        "    index, review, label = my_queue.get()\n",
        "    result = None\n",
        "    try:\n",
        "        result = classify_review(review) # calls predict_large_language_model\n",
        "        if result is not None:\n",
        "            results.append((index, review, label, result))\n",
        "    except:\n",
        "        print(f\"Error classifying index {index}\")\n",
        "    if result is None:\n",
        "        timeout_indexes.append(index)\n",
        "    my_queue.task_done()"
      ]
    },
    {
      "cell_type": "code",
      "execution_count": null,
      "id": "fcac8dbb-aa39-4256-9f90-aa06143b0542",
      "metadata": {
        "id": "fcac8dbb-aa39-4256-9f90-aa06143b0542"
      },
      "outputs": [],
      "source": [
        "# If you want to test with a subsample of reviews, uncomment these lines, and comment out df_test_sample = df_test\n",
        "# NUM_SAMPLES = 100\n",
        "# indexes = np.random.randint(low=0,high=25000,size=NUM_SAMPLES)\n",
        "# df_test_sample = df_test.iloc[indexes]\n",
        "\n",
        "df_test_sample = df_test\n",
        "\n",
        "# use this to throttle request rates\n",
        "REQUESTS_PER_SECOND = .8\n",
        "sleep_interval = 1 / REQUESTS_PER_SECOND"
      ]
    },
    {
      "cell_type": "code",
      "execution_count": null,
      "id": "2d80e04d-d685-4be9-a825-122e9eaea135",
      "metadata": {
        "id": "2d80e04d-d685-4be9-a825-122e9eaea135",
        "outputId": "06d11661-f879-4832-92aa-8854054da841"
      },
      "outputs": [
        {
          "name": "stdout",
          "output_type": "stream",
          "text": [
            "25000 samples took 521.8054098725319 minutes\n"
          ]
        }
      ],
      "source": [
        "my_queue = queue.Queue()\n",
        "my_queue.queue.clear()\n",
        "results = []\n",
        "timeout_indexes = []\n",
        "\n",
        "start_time = time.time()\n",
        "for index, row in df_test_sample.iterrows():\n",
        "    my_queue.put((index, row.text, row.label)) \n",
        "    t = threading.Thread(target=execute_threaded_task, daemon=True)\n",
        "    t.start()\n",
        "    time.sleep(sleep_interval) \n",
        "\n",
        "my_queue.join()   # hang out until all threads are complete\n",
        "elapsed = time.time() - start_time\n",
        "print(f\"{len(df_test_sample)} samples took {elapsed / 60} minutes\")"
      ]
    },
    {
      "cell_type": "code",
      "execution_count": null,
      "id": "2e0ec6da-c161-4c9d-9c99-9e73cd14b91d",
      "metadata": {
        "id": "2e0ec6da-c161-4c9d-9c99-9e73cd14b91d",
        "outputId": "2a4d986b-7c0f-4657-ae38-01f923440ea0"
      },
      "outputs": [
        {
          "data": {
            "text/html": [
              "<div>\n",
              "<style scoped>\n",
              "    .dataframe tbody tr th:only-of-type {\n",
              "        vertical-align: middle;\n",
              "    }\n",
              "\n",
              "    .dataframe tbody tr th {\n",
              "        vertical-align: top;\n",
              "    }\n",
              "\n",
              "    .dataframe thead th {\n",
              "        text-align: right;\n",
              "    }\n",
              "</style>\n",
              "<table border=\"1\" class=\"dataframe\">\n",
              "  <thead>\n",
              "    <tr style=\"text-align: right;\">\n",
              "      <th></th>\n",
              "      <th>original_index</th>\n",
              "      <th>review</th>\n",
              "      <th>label</th>\n",
              "      <th>result</th>\n",
              "    </tr>\n",
              "  </thead>\n",
              "  <tbody>\n",
              "    <tr>\n",
              "      <th>0</th>\n",
              "      <td>0</td>\n",
              "      <td>I love sci-fi and am willing to put up with a ...</td>\n",
              "      <td>0</td>\n",
              "      <td>0</td>\n",
              "    </tr>\n",
              "    <tr>\n",
              "      <th>1</th>\n",
              "      <td>1</td>\n",
              "      <td>Worth the entertainment value of a rental, esp...</td>\n",
              "      <td>0</td>\n",
              "      <td>2</td>\n",
              "    </tr>\n",
              "    <tr>\n",
              "      <th>2</th>\n",
              "      <td>2</td>\n",
              "      <td>its a totally average film with a few semi-alr...</td>\n",
              "      <td>0</td>\n",
              "      <td>0</td>\n",
              "    </tr>\n",
              "    <tr>\n",
              "      <th>3</th>\n",
              "      <td>3</td>\n",
              "      <td>STAR RATING: ***** Saturday Night **** Friday ...</td>\n",
              "      <td>0</td>\n",
              "      <td>0</td>\n",
              "    </tr>\n",
              "    <tr>\n",
              "      <th>4</th>\n",
              "      <td>4</td>\n",
              "      <td>First off let me say, If you haven't enjoyed a...</td>\n",
              "      <td>0</td>\n",
              "      <td>1</td>\n",
              "    </tr>\n",
              "  </tbody>\n",
              "</table>\n",
              "</div>"
            ],
            "text/plain": [
              "   original_index                                             review  label  \\\n",
              "0               0  I love sci-fi and am willing to put up with a ...      0   \n",
              "1               1  Worth the entertainment value of a rental, esp...      0   \n",
              "2               2  its a totally average film with a few semi-alr...      0   \n",
              "3               3  STAR RATING: ***** Saturday Night **** Friday ...      0   \n",
              "4               4  First off let me say, If you haven't enjoyed a...      0   \n",
              "\n",
              "   result  \n",
              "0       0  \n",
              "1       2  \n",
              "2       0  \n",
              "3       0  \n",
              "4       1  "
            ]
          },
          "execution_count": 19,
          "metadata": {},
          "output_type": "execute_result"
        }
      ],
      "source": [
        "results_df = pd.DataFrame(sorted(results),columns=[\"original_index\",\"review\", \"label\", \"result\"])\n",
        "results_df.head()"
      ]
    },
    {
      "cell_type": "code",
      "execution_count": null,
      "id": "f8c3fd39-2cfd-4068-b0c2-a2c981f4f415",
      "metadata": {
        "id": "f8c3fd39-2cfd-4068-b0c2-a2c981f4f415"
      },
      "outputs": [],
      "source": [
        "cm = confusion_matrix(y_true=results_df.label, y_pred=results_df.result)\n",
        "class_names = [\"negative\",\"positive\",\"bad_response\"]"
      ]
    },
    {
      "cell_type": "code",
      "execution_count": null,
      "id": "165fa521-6085-43d9-8ecb-8133ea3bd01d",
      "metadata": {
        "id": "165fa521-6085-43d9-8ecb-8133ea3bd01d",
        "outputId": "905174cd-89f6-41c6-de0a-f24ca9f00bbc"
      },
      "outputs": [
        {
          "data": {
            "text/html": [
              "<div>\n",
              "<style scoped>\n",
              "    .dataframe tbody tr th:only-of-type {\n",
              "        vertical-align: middle;\n",
              "    }\n",
              "\n",
              "    .dataframe tbody tr th {\n",
              "        vertical-align: top;\n",
              "    }\n",
              "\n",
              "    .dataframe thead th {\n",
              "        text-align: right;\n",
              "    }\n",
              "</style>\n",
              "<table border=\"1\" class=\"dataframe\">\n",
              "  <thead>\n",
              "    <tr style=\"text-align: right;\">\n",
              "      <th></th>\n",
              "      <th>negative</th>\n",
              "      <th>positive</th>\n",
              "      <th>bad_response</th>\n",
              "    </tr>\n",
              "  </thead>\n",
              "  <tbody>\n",
              "    <tr>\n",
              "      <th>negative</th>\n",
              "      <td>9760</td>\n",
              "      <td>544</td>\n",
              "      <td>2196</td>\n",
              "    </tr>\n",
              "    <tr>\n",
              "      <th>positive</th>\n",
              "      <td>284</td>\n",
              "      <td>10960</td>\n",
              "      <td>1256</td>\n",
              "    </tr>\n",
              "    <tr>\n",
              "      <th>bad_response</th>\n",
              "      <td>0</td>\n",
              "      <td>0</td>\n",
              "      <td>0</td>\n",
              "    </tr>\n",
              "  </tbody>\n",
              "</table>\n",
              "</div>"
            ],
            "text/plain": [
              "              negative  positive  bad_response\n",
              "negative          9760       544          2196\n",
              "positive           284     10960          1256\n",
              "bad_response         0         0             0"
            ]
          },
          "execution_count": 21,
          "metadata": {},
          "output_type": "execute_result"
        }
      ],
      "source": [
        "df_cm = pd.DataFrame(cm, index=class_names, columns=class_names)\n",
        "df_cm"
      ]
    },
    {
      "cell_type": "code",
      "execution_count": null,
      "id": "659cc523-dff9-40f9-9670-73bba0cde7ae",
      "metadata": {
        "id": "659cc523-dff9-40f9-9670-73bba0cde7ae",
        "outputId": "65523124-079d-487c-a164-383aa0541a13"
      },
      "outputs": [
        {
          "data": {
            "text/plain": [
              "0"
            ]
          },
          "execution_count": 22,
          "metadata": {},
          "output_type": "execute_result"
        }
      ],
      "source": [
        "len(timeout_indexes) # we didn't experience any timeouts"
      ]
    },
    {
      "cell_type": "code",
      "execution_count": null,
      "id": "49ade5a6-33ad-4c98-b9ea-6a1605885cbc",
      "metadata": {
        "id": "49ade5a6-33ad-4c98-b9ea-6a1605885cbc",
        "outputId": "cdf738af-5a36-4b36-bbff-c6114594b7cf"
      },
      "outputs": [
        {
          "data": {
            "text/plain": [
              "0.8288"
            ]
          },
          "execution_count": 23,
          "metadata": {},
          "output_type": "execute_result"
        }
      ],
      "source": [
        "accuracy_score(y_true=results_df.label, y_pred=results_df.result)"
      ]
    },
    {
      "cell_type": "code",
      "execution_count": null,
      "id": "c01183a8-7985-485e-b729-b0c6224b9ffe",
      "metadata": {
        "id": "c01183a8-7985-485e-b729-b0c6224b9ffe",
        "outputId": "427cbef0-c608-4a70-e069-a02b2d978a4e"
      },
      "outputs": [
        {
          "data": {
            "text/plain": [
              "0.9615741600148505"
            ]
          },
          "execution_count": 24,
          "metadata": {},
          "output_type": "execute_result"
        }
      ],
      "source": [
        "no_bad_responses_df = results_df[results_df.result != 2]\n",
        "accuracy_score(y_true=no_bad_responses_df.label, y_pred=no_bad_responses_df.result)"
      ]
    },
    {
      "cell_type": "code",
      "execution_count": null,
      "id": "37ff1576-3656-405f-a64b-7d47fd767c7a",
      "metadata": {
        "id": "37ff1576-3656-405f-a64b-7d47fd767c7a",
        "outputId": "d0581cee-964c-4b98-fc46-eea7973ca4fd"
      },
      "outputs": [
        {
          "data": {
            "text/plain": [
              "0.13808"
            ]
          },
          "execution_count": 31,
          "metadata": {},
          "output_type": "execute_result"
        }
      ],
      "source": [
        "# percentage of bad responses\n",
        "len(results_df[results_df[\"result\"] == 2]) / len(results_df)"
      ]
    },
    {
      "cell_type": "code",
      "execution_count": null,
      "id": "14ee403d-f46e-481d-b8be-7c0e61396b14",
      "metadata": {
        "id": "14ee403d-f46e-481d-b8be-7c0e61396b14"
      },
      "outputs": [],
      "source": []
    }
  ],
  "metadata": {
    "colab": {
      "provenance": []
    },
    "environment": {
      "kernel": "python3",
      "name": "common-cpu.m108",
      "type": "gcloud",
      "uri": "gcr.io/deeplearning-platform-release/base-cpu:m108"
    },
    "kernelspec": {
      "display_name": "Python 3",
      "language": "python",
      "name": "python3"
    },
    "language_info": {
      "codemirror_mode": {
        "name": "ipython",
        "version": 3
      },
      "file_extension": ".py",
      "mimetype": "text/x-python",
      "name": "python",
      "nbconvert_exporter": "python",
      "pygments_lexer": "ipython3",
      "version": "3.10.10"
    }
  },
  "nbformat": 4,
  "nbformat_minor": 5
}
